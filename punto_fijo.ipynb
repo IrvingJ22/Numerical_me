{
 "cells": [
  {
   "cell_type": "code",
   "execution_count": 8,
   "metadata": {},
   "outputs": [],
   "source": [
    "import matplotlib.pyplot as plt\n",
    "import math\n",
    "import numpy as np"
   ]
  },
  {
   "cell_type": "code",
   "execution_count": 9,
   "metadata": {},
   "outputs": [],
   "source": [
    "def punto_fijo(g, x0, Nmax, epsilon):\n",
    "    # Inicializar la iteración\n",
    "    x = x0\n",
    "    # Iterar hasta alcanzar la tolerancia o el número máximo de iteraciones\n",
    "    for i in range(Nmax):\n",
    "        # Calcular el siguiente valor de x\n",
    "        x_next = g(x)\n",
    "        # Verificar la tolerancia de error\n",
    "        if abs((x_next - x)/x_next) < epsilon:\n",
    "            return x_next\n",
    "        # Actualizar el valor de x\n",
    "        x = x_next\n",
    "    # Si no se alcanza la tolerancia después del número máximo de iteraciones, se devuelve None\n",
    "    return None"
   ]
  },
  {
   "cell_type": "code",
   "execution_count": 10,
   "metadata": {},
   "outputs": [
    {
     "ename": "KeyboardInterrupt",
     "evalue": "",
     "output_type": "error",
     "traceback": [
      "\u001b[0;31m---------------------------------------------------------------------------\u001b[0m",
      "\u001b[0;31mKeyboardInterrupt\u001b[0m                         Traceback (most recent call last)",
      "Cell \u001b[0;32mIn[10], line 6\u001b[0m\n\u001b[1;32m      3\u001b[0m     \u001b[39mreturn\u001b[39;00m \u001b[39m2\u001b[39m\u001b[39m*\u001b[39mx\u001b[39m*\u001b[39m\u001b[39m*\u001b[39m\u001b[39m2\u001b[39m \u001b[39m-\u001b[39m x \u001b[39m-\u001b[39m \u001b[39m5\u001b[39m\n\u001b[1;32m      5\u001b[0m \u001b[39m# Llamar al método del punto fijo\u001b[39;00m\n\u001b[0;32m----> 6\u001b[0m solucion \u001b[39m=\u001b[39m punto_fijo(g, \u001b[39m3\u001b[39;49m, \u001b[39m100\u001b[39;49m, \u001b[39m0.01\u001b[39;49m)\n\u001b[1;32m      8\u001b[0m \u001b[39m# Imprimir la solución\u001b[39;00m\n\u001b[1;32m      9\u001b[0m \u001b[39mif\u001b[39;00m solucion \u001b[39mis\u001b[39;00m \u001b[39mnot\u001b[39;00m \u001b[39mNone\u001b[39;00m:\n",
      "Cell \u001b[0;32mIn[9], line 7\u001b[0m, in \u001b[0;36mpunto_fijo\u001b[0;34m(g, x0, Nmax, epsilon)\u001b[0m\n\u001b[1;32m      4\u001b[0m \u001b[39m# Iterar hasta alcanzar la tolerancia o el número máximo de iteraciones\u001b[39;00m\n\u001b[1;32m      5\u001b[0m \u001b[39mfor\u001b[39;00m i \u001b[39min\u001b[39;00m \u001b[39mrange\u001b[39m(Nmax):\n\u001b[1;32m      6\u001b[0m     \u001b[39m# Calcular el siguiente valor de x\u001b[39;00m\n\u001b[0;32m----> 7\u001b[0m     x_next \u001b[39m=\u001b[39m g(x)\n\u001b[1;32m      8\u001b[0m     \u001b[39m# Verificar la tolerancia de error\u001b[39;00m\n\u001b[1;32m      9\u001b[0m     \u001b[39mif\u001b[39;00m \u001b[39mabs\u001b[39m((x_next \u001b[39m-\u001b[39m x)\u001b[39m/\u001b[39mx_next) \u001b[39m<\u001b[39m epsilon:\n",
      "Cell \u001b[0;32mIn[10], line 3\u001b[0m, in \u001b[0;36mg\u001b[0;34m(x)\u001b[0m\n\u001b[1;32m      2\u001b[0m \u001b[39mdef\u001b[39;00m \u001b[39mg\u001b[39m(x):\n\u001b[0;32m----> 3\u001b[0m     \u001b[39mreturn\u001b[39;00m \u001b[39m2\u001b[39m\u001b[39m*\u001b[39mx\u001b[39m*\u001b[39;49m\u001b[39m*\u001b[39;49m\u001b[39m2\u001b[39;49m \u001b[39m-\u001b[39m x \u001b[39m-\u001b[39m \u001b[39m5\u001b[39m\n",
      "\u001b[0;31mKeyboardInterrupt\u001b[0m: "
     ]
    }
   ],
   "source": [
    "# Definir la función g(x)\n",
    "def g(x):\n",
    "    return 2*x**2 - x - 5\n",
    "\n",
    "# Llamar al método del punto fijo\n",
    "solucion = punto_fijo(g, 3, 100, 0.01)\n",
    "\n",
    "# Imprimir la solución\n",
    "if solucion is not None:\n",
    "    print(\"La solución es:\", solucion)\n",
    "else:\n",
    "    print(\"El método del punto fijo no converge.\")"
   ]
  }
 ],
 "metadata": {
  "kernelspec": {
   "display_name": "Irving",
   "language": "python",
   "name": "python3"
  },
  "language_info": {
   "codemirror_mode": {
    "name": "ipython",
    "version": 3
   },
   "file_extension": ".py",
   "mimetype": "text/x-python",
   "name": "python",
   "nbconvert_exporter": "python",
   "pygments_lexer": "ipython3",
   "version": "3.9.16"
  },
  "orig_nbformat": 4
 },
 "nbformat": 4,
 "nbformat_minor": 2
}
