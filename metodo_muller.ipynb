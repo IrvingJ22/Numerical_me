{
 "cells": [
  {
   "cell_type": "code",
   "execution_count": 1,
   "metadata": {},
   "outputs": [],
   "source": [
    "import cmath\n",
    "\n",
    "def muller(f, x0, x1, x2, tol=1e-9, maxiter=100):\n",
    "    \"\"\"\n",
    "    Encuentra la raíz de la función f utilizando el método de Müller con tres puntos iniciales x0, x1, x2.\n",
    "    tol: tolerancia para la solución\n",
    "    maxiter: número máximo de iteraciones permitidas\n",
    "    \"\"\"\n",
    "    # Iterar hasta que se alcance la tolerancia o se alcance el número máximo de iteraciones\n",
    "    for i in range(maxiter):\n",
    "        # Calcular los coeficientes de la función cuadrática que se ajusta a los tres puntos iniciales\n",
    "        h1 = x1 - x0\n",
    "        h2 = x2 - x1\n",
    "        delta1 = (f(x1) - f(x0)) / h1\n",
    "        delta2 = (f(x2) - f(x1)) / h2\n",
    "        a = (delta2 - delta1) / (h2 + h1)\n",
    "        b = a * h2 + delta2\n",
    "        c = f(x2)\n",
    "        \n",
    "        # Calcular las raíces de la función cuadrática inversa\n",
    "        disc = cmath.sqrt(b**2 - 4*a*c)\n",
    "        if abs(b + disc) > abs(b - disc):\n",
    "            den = b + disc\n",
    "        else:\n",
    "            den = b - disc\n",
    "        dx = -2*c / den\n",
    "        \n",
    "        # Calcular la nueva aproximación a la raíz\n",
    "        x3 = x2 + dx\n",
    "        \n",
    "        # Comprobar si se ha alcanzado la tolerancia\n",
    "        if abs(dx) < tol*max(1, abs(x3)):\n",
    "            return x3\n",
    "        \n",
    "        # Ajustar los puntos iniciales para la siguiente iteración\n",
    "        x0 = x1\n",
    "        x1 = x2\n",
    "        x2 = x3\n",
    "    \n",
    "    # Si no se alcanza la tolerancia después del número máximo de iteraciones, imprimir un mensaje de error y devolver None\n",
    "    print(\"El método de Müller no converge después de\", maxiter, \"iteraciones\")\n",
    "    return None"
   ]
  },
  {
   "cell_type": "code",
   "execution_count": 2,
   "metadata": {},
   "outputs": [],
   "source": [
    "def f(x):\n",
    "    return x**3 - 2*x**2 + 5*x - 10"
   ]
  },
  {
   "cell_type": "code",
   "execution_count": 3,
   "metadata": {},
   "outputs": [
    {
     "name": "stdout",
     "output_type": "stream",
     "text": [
      "La raíz de la función es: (2+0j)\n"
     ]
    }
   ],
   "source": [
    "# Definir los puntos iniciales\n",
    "x0 = 0\n",
    "x1 = 1\n",
    "x2 = 2\n",
    "\n",
    "# Llamar a la función muller para encontrar la raíz de la función\n",
    "root = muller(f, x0, x1, x2)\n",
    "\n",
    "# Imprimir la solución\n",
    "print(\"La raíz de la función es:\", root)"
   ]
  }
 ],
 "metadata": {
  "kernelspec": {
   "display_name": "Irving",
   "language": "python",
   "name": "python3"
  },
  "language_info": {
   "codemirror_mode": {
    "name": "ipython",
    "version": 3
   },
   "file_extension": ".py",
   "mimetype": "text/x-python",
   "name": "python",
   "nbconvert_exporter": "python",
   "pygments_lexer": "ipython3",
   "version": "3.9.16"
  },
  "orig_nbformat": 4
 },
 "nbformat": 4,
 "nbformat_minor": 2
}
