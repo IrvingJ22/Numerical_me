{
 "cells": [
  {
   "cell_type": "code",
   "execution_count": 1,
   "metadata": {},
   "outputs": [],
   "source": [
    "import numpy as np\n",
    "\n",
    "def bairstow(polynomial, r, s, tolerance=1e-6, max_iterations=100):\n",
    "    coefficients = polynomial[:]\n",
    "    n = len(coefficients) - 1\n",
    "    roots = []\n",
    "    \n",
    "    while n > 2:\n",
    "        iterations = 0\n",
    "        delta_r = 1.0\n",
    "        delta_s = 1.0\n",
    "        \n",
    "        while delta_r > tolerance or delta_s > tolerance:\n",
    "            b = np.zeros(n+1)\n",
    "            c = np.zeros(n+1)\n",
    "            \n",
    "            b[-1] = coefficients[-1]\n",
    "            b[-2] = coefficients[-2] + r * b[-1]\n",
    "            c[-1] = b[-1]\n",
    "            c[-2] = b[-2] + r * c[-1]\n",
    "            \n",
    "            for i in range(n-2, -1, -1):\n",
    "                b[i] = coefficients[i] + r * b[i+1] + s * b[i+2]\n",
    "                c[i] = b[i] + r * c[i+1] + s * c[i+2]\n",
    "            \n",
    "            det = c[2] * c[2] - c[3] * c[1]\n",
    "            delta_r = (-b[1] * c[2] + b[0] * c[3]) / det\n",
    "            delta_s = (-b[0] * c[2] + b[1] * c[1]) / det\n",
    "            \n",
    "            r += delta_r\n",
    "            s += delta_s\n",
    "            iterations += 1\n",
    "            \n",
    "            if iterations > max_iterations:\n",
    "                raise ValueError(\"El método de Bairstow no converge.\")\n",
    "        \n",
    "        roots.append(complex(r, s))\n",
    "        coefficients = coefficients[:-2]\n",
    "        n -= 2\n",
    "    \n",
    "    if n == 2:\n",
    "        # Resolver ecuación cuadrática restante\n",
    "        a = coefficients[0]\n",
    "        b = coefficients[1]\n",
    "        c = coefficients[2]\n",
    "        discriminant = b * b - 4 * a * c\n",
    "        root1 = (-b + np.sqrt(discriminant)) / (2 * a)\n",
    "        root2 = (-b - np.sqrt(discriminant)) / (2 * a)\n",
    "        roots.extend([root1, root2])\n",
    "    elif n == 1:\n",
    "        roots.append(-coefficients[1] / coefficients[0])\n",
    "    \n",
    "    return roots"
   ]
  },
  {
   "cell_type": "code",
   "execution_count": 3,
   "metadata": {},
   "outputs": [
    {
     "name": "stdout",
     "output_type": "stream",
     "text": [
      "Las raices del polinomio son:  [(2.6194724200407236-0.6023633552325538j), 3.79128784747792, -0.7912878474779199]\n"
     ]
    }
   ],
   "source": [
    "polynomial = [1, -3, -3, -3, 2]\n",
    "r = 1.0\n",
    "s = 1.0\n",
    "roots = bairstow(polynomial, r, s)\n",
    "print(\"Las raices del polinomio son: \",roots)"
   ]
  }
 ],
 "metadata": {
  "kernelspec": {
   "display_name": "Irving",
   "language": "python",
   "name": "python3"
  },
  "language_info": {
   "codemirror_mode": {
    "name": "ipython",
    "version": 3
   },
   "file_extension": ".py",
   "mimetype": "text/x-python",
   "name": "python",
   "nbconvert_exporter": "python",
   "pygments_lexer": "ipython3",
   "version": "3.9.16"
  },
  "orig_nbformat": 4
 },
 "nbformat": 4,
 "nbformat_minor": 2
}
