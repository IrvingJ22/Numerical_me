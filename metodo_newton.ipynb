{
 "cells": [
  {
   "cell_type": "code",
   "execution_count": 1,
   "metadata": {},
   "outputs": [],
   "source": [
    "def newton_raphson(f, df, x0, tol=1e-6, max_iter=100):\n",
    "    \"\"\"\n",
    "    Implementación del método de Newton-Raphson para encontrar una raíz de una función.\n",
    "\n",
    "    :param f: Función a encontrar la raíz.\n",
    "    :param df: Derivada de la función f.\n",
    "    :param x0: Valor inicial de la raíz.\n",
    "    :param tol: Tolerancia del error.\n",
    "    :param max_iter: Número máximo de iteraciones.\n",
    "    :return: La raíz encontrada.\n",
    "    \"\"\"\n",
    "\n",
    "    # Inicializar la iteración\n",
    "    x = x0\n",
    "    i = 0\n",
    "\n",
    "    # Iterar mientras no se alcance el número máximo de iteraciones\n",
    "    while i < max_iter:\n",
    "        # Calcular el valor de la función y su derivada en la iteración actual\n",
    "        y = f(x)\n",
    "        dy = df(x)\n",
    "\n",
    "        # Calcular la siguiente aproximación de la raíz utilizando la fórmula de Newton-Raphson\n",
    "        x_next = x - y / dy\n",
    "\n",
    "        # Comprobar si la diferencia entre las dos últimas aproximaciones de la raíz es menor que la tolerancia\n",
    "        if abs(x_next - x) < tol:\n",
    "            return x_next\n",
    "\n",
    "        # Actualizar la aproximación de la raíz y el contador de iteraciones\n",
    "        x = x_next\n",
    "        i += 1\n",
    "\n",
    "    # Si no se alcanza la tolerancia en el número máximo de iteraciones, retornar None\n",
    "    return None"
   ]
  },
  {
   "attachments": {},
   "cell_type": "markdown",
   "metadata": {},
   "source": [
    "## Implementación con las funciones"
   ]
  },
  {
   "cell_type": "code",
   "execution_count": 6,
   "metadata": {},
   "outputs": [],
   "source": [
    "def f(x):\n",
    "    return x ** 3 - 2 * x + 1"
   ]
  },
  {
   "cell_type": "code",
   "execution_count": 7,
   "metadata": {},
   "outputs": [],
   "source": [
    "def df(x):\n",
    "    return 3*x**2 - 2"
   ]
  },
  {
   "cell_type": "code",
   "execution_count": 10,
   "metadata": {},
   "outputs": [
    {
     "name": "stdout",
     "output_type": "stream",
     "text": [
      "0.6180339887481617\n"
     ]
    }
   ],
   "source": [
    "x0 = 0.0\n",
    "tol = 1e-6\n",
    "\n",
    "raiz = newton_raphson(f, df, x0, tol)\n",
    "\n",
    "print(raiz)"
   ]
  }
 ],
 "metadata": {
  "kernelspec": {
   "display_name": "Irving",
   "language": "python",
   "name": "python3"
  },
  "language_info": {
   "codemirror_mode": {
    "name": "ipython",
    "version": 3
   },
   "file_extension": ".py",
   "mimetype": "text/x-python",
   "name": "python",
   "nbconvert_exporter": "python",
   "pygments_lexer": "ipython3",
   "version": "3.9.16"
  },
  "orig_nbformat": 4
 },
 "nbformat": 4,
 "nbformat_minor": 2
}
