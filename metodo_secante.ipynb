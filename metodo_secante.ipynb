{
 "cells": [
  {
   "cell_type": "code",
   "execution_count": 1,
   "metadata": {},
   "outputs": [],
   "source": [
    "def secante(f, x0, x1, tol, max_iter):\n",
    "    i = 0\n",
    "    while i < max_iter:\n",
    "        fx0 = f(x0)\n",
    "        fx1 = f(x1)\n",
    "        x2 = x1 - ((x1 - x0) * fx1) / (fx1 - fx0)\n",
    "        if abs(x2 - x1) < tol:\n",
    "            return x2\n",
    "        x0, x1 = x1, x2\n",
    "        i += 1\n",
    "    print(\"Máximo número de iteraciones alcanzado.\")"
   ]
  },
  {
   "cell_type": "code",
   "execution_count": 2,
   "metadata": {},
   "outputs": [],
   "source": [
    "# Ejemplo de uso\n",
    "def f(x):\n",
    "    return x**3 - 2*x - 5"
   ]
  },
  {
   "cell_type": "code",
   "execution_count": 3,
   "metadata": {},
   "outputs": [
    {
     "name": "stdout",
     "output_type": "stream",
     "text": [
      "La raíz aproximada de la función es: 2.0945514815423265\n"
     ]
    }
   ],
   "source": [
    "x0 = 1\n",
    "x1 = 2\n",
    "tol = 1e-6\n",
    "max_iter = 100\n",
    "\n",
    "raiz = secante(f, x0, x1, tol, max_iter)\n",
    "\n",
    "print(\"La raíz aproximada de la función es:\", raiz)"
   ]
  }
 ],
 "metadata": {
  "kernelspec": {
   "display_name": "Irving",
   "language": "python",
   "name": "python3"
  },
  "language_info": {
   "codemirror_mode": {
    "name": "ipython",
    "version": 3
   },
   "file_extension": ".py",
   "mimetype": "text/x-python",
   "name": "python",
   "nbconvert_exporter": "python",
   "pygments_lexer": "ipython3",
   "version": "3.9.16"
  },
  "orig_nbformat": 4
 },
 "nbformat": 4,
 "nbformat_minor": 2
}
